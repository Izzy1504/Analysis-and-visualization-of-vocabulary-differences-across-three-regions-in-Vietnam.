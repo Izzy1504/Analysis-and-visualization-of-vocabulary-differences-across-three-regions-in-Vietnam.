{
 "cells": [
  {
   "cell_type": "code",
   "execution_count": 1,
   "metadata": {},
   "outputs": [],
   "source": [
    "import pandas as pd\n",
    "import numpy as np\n",
    "import matplotlib.pyplot as plt\n",
    "import seaborn as sns\n",
    "from datasets import load_dataset\n",
    "import plotly.express as px\n",
    "import plotly.graph_objects as go\n",
    "from collections import Counter\n",
    "import re\n",
    "from wordcloud import WordCloud"
   ]
  },
  {
   "cell_type": "code",
   "execution_count": 2,
   "metadata": {},
   "outputs": [],
   "source": [
    "# Cấu hình hiển thị\n",
    "plt.style.use('default')  # Thay 'seaborn' bằng 'default'\n",
    "sns.set_theme()  # Thêm dòng này\n",
    "pd.set_option('display.max_columns', None)\n",
    "pd.set_option('display.max_rows', 100)\n",
    "\n",
    "# Cấu hình font cho tiếng Việt\n",
    "plt.rcParams['font.family'] = 'Arial Unicode MS'\n"
   ]
  },
  {
   "cell_type": "code",
   "execution_count": 3,
   "metadata": {},
   "outputs": [],
   "source": [
    "plt.rcParams['font.family'] = 'Arial Unicode MS'"
   ]
  },
  {
   "cell_type": "code",
   "execution_count": null,
   "metadata": {},
   "outputs": [
    {
     "name": "stdout",
     "output_type": "stream",
     "text": [
      "Đang tải dataset...\n"
     ]
    },
    {
     "name": "stderr",
     "output_type": "stream",
     "text": [
      "Repo card metadata block was not found. Setting CardData to empty.\n"
     ]
    },
    {
     "data": {
      "application/vnd.jupyter.widget-view+json": {
       "model_id": "21065a417b4446f3bc664792f5349ca0",
       "version_major": 2,
       "version_minor": 0
      },
      "text/plain": [
       "Resolving data files:   0%|          | 0/103 [00:00<?, ?it/s]"
      ]
     },
     "metadata": {},
     "output_type": "display_data"
    },
    {
     "data": {
      "application/vnd.jupyter.widget-view+json": {
       "model_id": "58d631a1f4244ce282352ad24a475cc7",
       "version_major": 2,
       "version_minor": 0
      },
      "text/plain": [
       "Downloading data:   0%|          | 0/103 [00:00<?, ?files/s]"
      ]
     },
     "metadata": {},
     "output_type": "display_data"
    },
    {
     "data": {
      "application/vnd.jupyter.widget-view+json": {
       "model_id": "941be11ee9c843bcb44ee52523e68218",
       "version_major": 2,
       "version_minor": 0
      },
      "text/plain": [
       "train-00025-of-00103.parquet:  36%|###6      | 262M/725M [00:00<?, ?B/s]"
      ]
     },
     "metadata": {},
     "output_type": "display_data"
    },
    {
     "name": "stderr",
     "output_type": "stream",
     "text": [
      "d:\\HK9\\news\\venv\\Lib\\site-packages\\huggingface_hub\\file_download.py:143: UserWarning: `huggingface_hub` cache-system uses symlinks by default to efficiently store duplicated files but your machine does not support them in C:\\Users\\ADMIN\\.cache\\huggingface\\hub\\datasets--nguyendv02--ViMD_Dataset. Caching files will still work but in a degraded version that might require more space on your disk. This warning can be disabled by setting the `HF_HUB_DISABLE_SYMLINKS_WARNING` environment variable. For more details, see https://huggingface.co/docs/huggingface_hub/how-to-cache#limitations.\n",
      "To support symlinks on Windows, you either need to activate Developer Mode or to run Python as an administrator. In order to activate developer mode, see this article: https://docs.microsoft.com/en-us/windows/apps/get-started/enable-your-device-for-development\n",
      "  warnings.warn(message)\n"
     ]
    },
    {
     "data": {
      "application/vnd.jupyter.widget-view+json": {
       "model_id": "a0bae3d33f4344c6bc48712aa2383d4d",
       "version_major": 2,
       "version_minor": 0
      },
      "text/plain": [
       "train-00026-of-00103.parquet:   0%|          | 0.00/484M [00:00<?, ?B/s]"
      ]
     },
     "metadata": {},
     "output_type": "display_data"
    },
    {
     "data": {
      "application/vnd.jupyter.widget-view+json": {
       "model_id": "9e9cf885e2d34b42bf351f12e8524d1a",
       "version_major": 2,
       "version_minor": 0
      },
      "text/plain": [
       "train-00027-of-00103.parquet:   0%|          | 0.00/417M [00:00<?, ?B/s]"
      ]
     },
     "metadata": {},
     "output_type": "display_data"
    },
    {
     "data": {
      "application/vnd.jupyter.widget-view+json": {
       "model_id": "cd5ef92a2930420892dc282069c0beeb",
       "version_major": 2,
       "version_minor": 0
      },
      "text/plain": [
       "train-00028-of-00103.parquet:   0%|          | 0.00/445M [00:00<?, ?B/s]"
      ]
     },
     "metadata": {},
     "output_type": "display_data"
    }
   ],
   "source": [
    "print(\"Đang tải dataset...\")\n",
    "dataset = load_dataset(\"nguyendv02/ViMD_Dataset\")"
   ]
  },
  {
   "cell_type": "code",
   "execution_count": null,
   "metadata": {},
   "outputs": [],
   "source": [
    "df = pd.DataFrame(dataset['train'])"
   ]
  },
  {
   "cell_type": "code",
   "execution_count": null,
   "metadata": {},
   "outputs": [],
   "source": [
    "print(\"\\nKích thước dữ liệu:\", df.shape)\n",
    "print(\"\\nThông tin các cột:\")\n",
    "df.info()\n"
   ]
  },
  {
   "cell_type": "code",
   "execution_count": null,
   "metadata": {},
   "outputs": [],
   "source": [
    "print(\"\\nMẫu dữ liệu:\")\n",
    "df.head()\n"
   ]
  },
  {
   "cell_type": "code",
   "execution_count": null,
   "metadata": {},
   "outputs": [],
   "source": [
    "region_counts = df['region'].value_counts()\n",
    "fig = px.pie(values=region_counts.values, \n",
    "             names=region_counts.index,\n",
    "             title='Phân bố dữ liệu theo vùng miền',\n",
    "             color_discrete_sequence=px.colors.qualitative.Set3)\n",
    "fig.update_traces(textposition='inside', textinfo='percent+label')\n",
    "fig.show()\n"
   ]
  },
  {
   "cell_type": "code",
   "execution_count": null,
   "metadata": {},
   "outputs": [],
   "source": [
    "print(\"\\nThống kê chi tiết theo vùng miền:\")\n",
    "print(region_counts)\n"
   ]
  },
  {
   "cell_type": "code",
   "execution_count": null,
   "metadata": {},
   "outputs": [],
   "source": [
    "# ### 3.2. Phân bố theo giới tính\n",
    "\n",
    "# %%\n",
    "gender_counts = df['gender'].value_counts()\n",
    "fig = px.bar(x=gender_counts.index, \n",
    "             y=gender_counts.values,\n",
    "             title='Phân bố dữ liệu theo giới tính',\n",
    "             labels={'x': 'Giới tính', 'y': 'Số lượng'},\n",
    "             color=gender_counts.index,\n",
    "             color_discrete_sequence=px.colors.qualitative.Set3)\n",
    "fig.show()"
   ]
  },
  {
   "cell_type": "code",
   "execution_count": null,
   "metadata": {},
   "outputs": [],
   "source": [
    "# In thống kê chi tiết\n",
    "print(\"\\nThống kê chi tiết theo giới tính:\")\n",
    "print(gender_counts)"
   ]
  },
  {
   "cell_type": "code",
   "execution_count": null,
   "metadata": {},
   "outputs": [],
   "source": [
    "# ### 3.3. Phân bố độ dài audio theo vùng miền\n",
    "\n",
    "# %%\n",
    "fig = px.box(df, x='region', y='length',\n",
    "             title='Phân bố độ dài audio theo vùng miền',\n",
    "             labels={'region': 'Vùng miền', 'length': 'Độ dài (giây)'},\n",
    "             color='region',\n",
    "             color_discrete_sequence=px.colors.qualitative.Set3)\n",
    "fig.show()\n"
   ]
  },
  {
   "cell_type": "code",
   "execution_count": null,
   "metadata": {},
   "outputs": [],
   "source": [
    "print(\"\\nThống kê độ dài audio theo vùng miền:\")\n",
    "print(df.groupby('region')['length'].describe())\n"
   ]
  },
  {
   "cell_type": "code",
   "execution_count": null,
   "metadata": {},
   "outputs": [],
   "source": [
    "# 3.4. Phân bố số lượng từ theo vùng miền\n",
    "\n",
    "# %%\n",
    "df['word_count'] = df['text'].str.split().str.len()\n",
    "fig = px.box(df, x='region', y='word_count',\n",
    "             title='Phân bố số lượng từ theo vùng miền',\n",
    "             labels={'region': 'Vùng miền', 'word_count': 'Số từ'},\n",
    "             color='region',\n",
    "             color_discrete_sequence=px.colors.qualitative.Set3)\n",
    "fig.show()"
   ]
  },
  {
   "cell_type": "code",
   "execution_count": null,
   "metadata": {},
   "outputs": [],
   "source": [
    "print(\"\\nThống kê số lượng từ theo vùng miền:\")\n",
    "print(df.groupby('region')['word_count'].describe())"
   ]
  },
  {
   "cell_type": "code",
   "execution_count": null,
   "metadata": {},
   "outputs": [],
   "source": [
    "# 4.1. Tạo Word Cloud cho từng vùng miền\n",
    "\n",
    "# %%\n",
    "def create_wordcloud(text, title):\n",
    "    wordcloud = WordCloud(width=800, height=400,\n",
    "                         background_color='white',\n",
    "                         font_path='Arial Unicode MS',\n",
    "                         max_words=100).generate(text)\n",
    "    \n",
    "    plt.figure(figsize=(10, 5))\n",
    "    plt.imshow(wordcloud, interpolation='bilinear')\n",
    "    plt.axis('off')\n",
    "    plt.title(title)\n",
    "    plt.show()"
   ]
  },
  {
   "cell_type": "code",
   "execution_count": null,
   "metadata": {},
   "outputs": [],
   "source": [
    "# Tạo word cloud cho từng vùng miền\n",
    "for region in df['region'].unique():\n",
    "    region_text = ' '.join(df[df['region'] == region]['text'])\n",
    "    create_wordcloud(region_text, f'Word Cloud - {region}')"
   ]
  },
  {
   "cell_type": "code",
   "execution_count": null,
   "metadata": {},
   "outputs": [],
   "source": [
    "# 4.2. Phân tích từ vựng đặc trưng theo vùng miền\n",
    "\n",
    "# %%\n",
    "def get_word_freq_by_region(text_series, region):\n",
    "    words = ' '.join(text_series).split()\n",
    "    return pd.Series(words).value_counts()\n",
    "\n",
    "region_word_freq = {}\n",
    "for region in df['region'].unique():\n",
    "    region_texts = df[df['region'] == region]['text']\n",
    "    region_word_freq[region] = get_word_freq_by_region(region_texts, region)\n",
    "\n",
    "# Hiển thị top 20 từ phổ biến nhất cho mỗi vùng miền\n",
    "for region, freq in region_word_freq.items():\n",
    "    print(f\"\\nTop 20 từ phổ biến nhất ở {region}:\")\n",
    "    print(freq.head(20))"
   ]
  },
  {
   "cell_type": "code",
   "execution_count": null,
   "metadata": {},
   "outputs": [],
   "source": [
    "# 4.3. So sánh từ vựng giữa các vùng miền\n",
    "\n",
    "# %%\n",
    "def compare_regions(region1, region2, top_n=10):\n",
    "    # Lấy top N từ phổ biến nhất của mỗi vùng\n",
    "    words1 = set(region_word_freq[region1].head(top_n).index)\n",
    "    words2 = set(region_word_freq[region2].head(top_n).index)\n",
    "    \n",
    "    # Tìm từ chung và từ riêng\n",
    "    common_words = words1.intersection(words2)\n",
    "    unique_to_1 = words1 - words2\n",
    "    unique_to_2 = words2 - words1\n",
    "    \n",
    "    print(f\"\\nSo sánh {region1} và {region2}:\")\n",
    "    print(f\"Từ chung: {', '.join(common_words)}\")\n",
    "    print(f\"Từ đặc trưng của {region1}: {', '.join(unique_to_1)}\")\n",
    "    print(f\"Từ đặc trưng của {region2}: {', '.join(unique_to_2)}\")\n",
    "\n",
    "# So sánh các vùng miền\n",
    "compare_regions('North', 'Central')\n",
    "compare_regions('Central', 'South')\n",
    "compare_regions('North', 'South')"
   ]
  },
  {
   "cell_type": "markdown",
   "metadata": {},
   "source": [
    "### Phân tích từ vựng đặc trưng của từng vùng"
   ]
  },
  {
   "cell_type": "code",
   "execution_count": null,
   "metadata": {},
   "outputs": [],
   "source": [
    "def analyze_region_specific_words():\n",
    "    # Loại bỏ các từ phổ biến (stopwords)\n",
    "    stopwords = set(['là', 'của', 'và', 'trong', 'để', 'có', 'được', 'cho', 'với', 'tại'])\n",
    "    \n",
    "    for region in df['region'].unique():\n",
    "        # Lấy tất cả từ của vùng\n",
    "        region_words = ' '.join(df[df['region'] == region]['text']).split()\n",
    "        # Loại bỏ stopwords\n",
    "        region_words = [w for w in region_words if w not in stopwords]\n",
    "        # Đếm tần suất\n",
    "        word_freq = Counter(region_words)\n",
    "        # Lấy top 10 từ đặc trưng\n",
    "        print(f\"\\nTop 10 từ đặc trưng của vùng {region}:\")\n",
    "        print(word_freq.most_common(10))"
   ]
  },
  {
   "cell_type": "markdown",
   "metadata": {},
   "source": [
    "# Phân tích độ dài từ theo vùng miền"
   ]
  },
  {
   "cell_type": "code",
   "execution_count": null,
   "metadata": {},
   "outputs": [],
   "source": [
    "# Phân tích độ dài từ theo vùng miền\n",
    "def analyze_word_length():\n",
    "    df['avg_word_length'] = df['text'].apply(lambda x: np.mean([len(w) for w in x.split()]))\n",
    "    \n",
    "    fig = px.box(df, x='region', y='avg_word_length',\n",
    "                 title='Phân bố độ dài trung bình của từ theo vùng miền',\n",
    "                 labels={'region': 'Vùng miền', 'avg_word_length': 'Độ dài trung bình'})\n",
    "    fig.show()"
   ]
  },
  {
   "cell_type": "markdown",
   "metadata": {},
   "source": [
    "# Phân tích cấu trúc câu"
   ]
  },
  {
   "cell_type": "code",
   "execution_count": null,
   "metadata": {},
   "outputs": [],
   "source": [
    "# Phân tích cấu trúc câu\n",
    "def analyze_sentence_structure():\n",
    "    # Đếm số từ trong mỗi câu\n",
    "    df['sentence_length'] = df['text'].apply(lambda x: len(x.split()))\n",
    "    \n",
    "    # Vẽ biểu đồ phân bố độ dài câu\n",
    "    fig = px.histogram(df, x='sentence_length', color='region',\n",
    "                      title='Phân bố độ dài câu theo vùng miền',\n",
    "                      labels={'sentence_length': 'Số từ trong câu', 'count': 'Số lượng'})\n",
    "    fig.show()"
   ]
  },
  {
   "cell_type": "markdown",
   "metadata": {},
   "source": [
    "# Phân tích từ vựng chung và riêng"
   ]
  },
  {
   "cell_type": "code",
   "execution_count": null,
   "metadata": {},
   "outputs": [],
   "source": [
    "# Phân tích từ vựng chung và riêng\n",
    "def analyze_common_and_unique_words():\n",
    "    # Lấy top 100 từ phổ biến nhất của mỗi vùng\n",
    "    region_top_words = {}\n",
    "    for region in df['region'].unique():\n",
    "        words = ' '.join(df[df['region'] == region]['text']).split()\n",
    "        region_top_words[region] = set(Counter(words).most_common(100))\n",
    "    \n",
    "    # Tìm từ chung giữa các vùng\n",
    "    common_words = set.intersection(*[set(dict(words).keys()) for words in region_top_words.values()])\n",
    "    print(\"\\nCác từ phổ biến chung giữa các vùng:\")\n",
    "    print(common_words)\n",
    "    \n",
    "    # Tìm từ riêng của mỗi vùng\n",
    "    for region in df['region'].unique():\n",
    "        other_regions = [r for r in df['region'].unique() if r != region]\n",
    "        other_words = set.union(*[set(dict(region_top_words[r]).keys()) for r in other_regions])\n",
    "        unique_words = set(dict(region_top_words[region]).keys()) - other_words\n",
    "        print(f\"\\nCác từ đặc trưng của vùng {region}:\")\n",
    "        print(unique_words)"
   ]
  },
  {
   "cell_type": "markdown",
   "metadata": {},
   "source": [
    "# Kết luận"
   ]
  },
  {
   "cell_type": "code",
   "execution_count": null,
   "metadata": {},
   "outputs": [],
   "source": [
    "\n",
    "def draw_conclusions():\n",
    "    print(\"\"\"\n",
    "    Kết luận từ phân tích:\n",
    "    \n",
    "    1. Phân bố từ vựng:\n",
    "       - Vùng miền nào có nhiều từ đặc trưng nhất\n",
    "       - Các từ phổ biến chung giữa các vùng\n",
    "       - Sự khác biệt về độ dài từ và câu\n",
    "    \n",
    "    2. Đặc điểm ngôn ngữ:\n",
    "       - Cấu trúc câu đặc trưng của mỗi vùng\n",
    "       - Từ vựng chuyên ngành đặc trưng\n",
    "       - Cách sử dụng từ ngữ địa phương\n",
    "    \n",
    "    3. Ứng dụng:\n",
    "       - Phát triển hệ thống nhận dạng phương ngữ\n",
    "       - Cải thiện công cụ dịch thuật\n",
    "       - Phát triển ứng dụng học tiếng Việt theo vùng miền\n",
    "    \"\"\")"
   ]
  },
  {
   "cell_type": "code",
   "execution_count": null,
   "metadata": {},
   "outputs": [],
   "source": [
    "# Tạo biểu đồ thống kê tổng hợp giữa 3 vùng miền\n",
    "def create_region_comparison_chart():\n",
    "    # Tạo DataFrame tổng hợp\n",
    "    comparison_data = pd.DataFrame({\n",
    "        'Vùng miền': df['region'].unique(),\n",
    "        'Số lượng mẫu': df['region'].value_counts().values,\n",
    "        'Độ dài audio trung bình': df.groupby('region')['length'].mean().values,\n",
    "        'Số từ trung bình': df.groupby('region')['word_count'].mean().values,\n",
    "        'Độ dài từ trung bình': df.groupby('region')['text'].apply(\n",
    "            lambda x: np.mean([len(w) for w in ' '.join(x).split()])).values\n",
    "    })\n",
    "    \n",
    "    # Tạo biểu đồ radar (spider chart)\n",
    "    fig = go.Figure()\n",
    "    \n",
    "    # Chuẩn hóa dữ liệu về thang điểm 0-1\n",
    "    normalized_data = comparison_data.copy()\n",
    "    for col in comparison_data.columns[1:]:\n",
    "        normalized_data[col] = (comparison_data[col] - comparison_data[col].min()) / \\\n",
    "                             (comparison_data[col].max() - comparison_data[col].min())\n",
    "    \n",
    "    # Vẽ biểu đồ cho từng vùng miền\n",
    "    for i, region in enumerate(comparison_data['Vùng miền']):\n",
    "        fig.add_trace(go.Scatterpolar(\n",
    "            r=normalized_data.iloc[i, 1:].values,\n",
    "            theta=normalized_data.columns[1:],\n",
    "            name=region,\n",
    "            fill='toself'\n",
    "        ))\n",
    "    \n",
    "    # Cập nhật layout\n",
    "    fig.update_layout(\n",
    "        polar=dict(\n",
    "            radialaxis=dict(\n",
    "                visible=True,\n",
    "                range=[0, 1]\n",
    "            )),\n",
    "        showlegend=True,\n",
    "        title='So sánh tổng hợp giữa ba vùng miền',\n",
    "        template='plotly_white'\n",
    "    )\n",
    "    \n",
    "    # Hiển thị biểu đồ\n",
    "    fig.show()\n",
    "    \n",
    "    # In bảng thống kê chi tiết\n",
    "    print(\"\\nBảng thống kê chi tiết:\")\n",
    "    print(comparison_data.to_string(index=False))\n",
    "    \n",
    "    # In nhận xét\n",
    "    print(\"\\nNhận xét:\")\n",
    "    for col in comparison_data.columns[1:]:\n",
    "        max_region = comparison_data.loc[comparison_data[col].idxmax(), 'Vùng miền']\n",
    "        min_region = comparison_data.loc[comparison_data[col].idxmin(), 'Vùng miền']\n",
    "        print(f\"- {col}:\")\n",
    "        print(f\"  + Vùng {max_region} có giá trị cao nhất: {comparison_data[col].max():.2f}\")\n",
    "        print(f\"  + Vùng {min_region} có giá trị thấp nhất: {comparison_data[col].min():.2f}\")"
   ]
  }
 ],
 "metadata": {
  "kernelspec": {
   "display_name": "venv",
   "language": "python",
   "name": "python3"
  },
  "language_info": {
   "codemirror_mode": {
    "name": "ipython",
    "version": 3
   },
   "file_extension": ".py",
   "mimetype": "text/x-python",
   "name": "python",
   "nbconvert_exporter": "python",
   "pygments_lexer": "ipython3",
   "version": "3.12.5"
  }
 },
 "nbformat": 4,
 "nbformat_minor": 4
}
